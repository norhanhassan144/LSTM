{
  "nbformat": 4,
  "nbformat_minor": 0,
  "metadata": {
    "colab": {
      "provenance": [],
      "authorship_tag": "ABX9TyOrkHUJ6tmuZPoLiPCLxmoF",
      "include_colab_link": true
    },
    "kernelspec": {
      "name": "python3",
      "display_name": "Python 3"
    },
    "language_info": {
      "name": "python"
    }
  },
  "cells": [
    {
      "cell_type": "markdown",
      "metadata": {
        "id": "view-in-github",
        "colab_type": "text"
      },
      "source": [
        "<a href=\"https://colab.research.google.com/github/norhanhassan144/LSTM/blob/main/Untitled0.ipynb\" target=\"_parent\"><img src=\"https://colab.research.google.com/assets/colab-badge.svg\" alt=\"Open In Colab\"/></a>"
      ]
    },
    {
      "cell_type": "code",
      "execution_count": 6,
      "metadata": {
        "colab": {
          "base_uri": "https://localhost:8080/"
        },
        "id": "PnRe1oSvrR6I",
        "outputId": "3d51a934-f989-4ade-e574-2532f0b0bc16"
      },
      "outputs": [
        {
          "output_type": "stream",
          "name": "stdout",
          "text": [
            "Step 1: h=0.4166, c=0.6472\n",
            "Step 2: h=0.7473, c=1.4035\n",
            "Step 3: h=0.8926, c=2.2443\n",
            "Step 4: h=0.9481, c=3.1467\n",
            "Predicted: 1.6377\n"
          ]
        }
      ],
      "source": [
        "import numpy as np\n",
        "\n",
        "# Activation functions\n",
        "def sigmoid(x): return 1 / (1 + np.exp(-x))\n",
        "def tanh(x): return np.tanh(x)\n",
        "\n",
        "# Weights & Biases\n",
        "Wf, Wi, Wo, Wc = 0.8, 0.7, 0.6, 0.9\n",
        "bf, bi, bo, bc = 0.2, 0.3, 0.4, 0.5\n",
        "Wh = 0.2  # Hidden state weight\n",
        "\n",
        "h, c = 0, 0  # Initial states\n",
        "x_seq = [1, 2, 3, 4]\n",
        "\n",
        "for i, x in enumerate(x_seq):\n",
        "    f = sigmoid(Wf * x + Wh * h + bf)\n",
        "    i_gate = sigmoid(Wi * x + Wh * h + bi)\n",
        "    c_tilde = tanh(Wc * x + Wh * h + bc)\n",
        "    c = f * c + i_gate * c_tilde  # Update cell state\n",
        "    o = sigmoid(Wo * x + Wh * h + bo)\n",
        "    h = o * tanh(c)  # Update hidden state\n",
        "\n",
        "    print(f\"Step {i+1}: h={h:.4f}, c={c:.4f}\")\n",
        "\n",
        "# Predict next value\n",
        "y_pred = 1.2 * h + 0.5\n",
        "print(f\"Predicted: {y_pred:.4f}\")\n"
      ]
    },
    {
      "cell_type": "code",
      "source": [
        "#AFTER MODIFIED eights & biases TO PREDICT NUMBER CLOSE TO 4\n",
        "\n",
        "import numpy as np\n",
        "\n",
        "def sig(x): return 1 / (1 + np.exp(-x))\n",
        "def tanh(x): return np.tanh(x)\n",
        "\n",
        "# Weights & biases\n",
        "Wf, Wi, Wo, Wc = 0.8, 0.7, 0.6, 0.9\n",
        "bf, bi, bo, bc = 0.2, 0.3, 0.4, 0.5\n",
        "\n",
        "h, c = 0, 0\n",
        "x_seq = [1, 2, 3, 4]\n",
        "\n",
        "for i, x in enumerate(x_seq):\n",
        "    f = sig(Wf*x + bf)\n",
        "    i_gate = sig(Wi*x + bi)\n",
        "    c_tilde = tanh(Wc*x + bc)\n",
        "    c = f * c + i_gate * c_tilde\n",
        "    o = sig(Wo*x + bo)\n",
        "    h = o * tanh(c)\n",
        "\n",
        "    print(f\"Step {i+1}: h={h:.4f}, c={c:.4f}\")\n",
        "\n",
        "# Prediction\n",
        "y_pred = 4.2 * h - 0.5\n",
        "print(f\"Predicted: {y_pred:.4f}\")"
      ],
      "metadata": {
        "colab": {
          "base_uri": "https://localhost:8080/"
        },
        "id": "GvMS8sRDy4N9",
        "outputId": "34b1bc13-da64-4ed9-8311-3cf1d9b53cdb"
      },
      "execution_count": 8,
      "outputs": [
        {
          "output_type": "stream",
          "name": "stdout",
          "text": [
            "Step 1: h=0.4166, c=0.6472\n",
            "Step 2: h=0.7337, c=1.3841\n",
            "Step 3: h=0.8785, c=2.2022\n",
            "Step 4: h=0.9388, c=3.0875\n",
            "Predicted: 3.4428\n"
          ]
        }
      ]
    },
    {
      "cell_type": "code",
      "source": [],
      "metadata": {
        "id": "AMj5fIU6zAna"
      },
      "execution_count": null,
      "outputs": []
    }
  ]
}